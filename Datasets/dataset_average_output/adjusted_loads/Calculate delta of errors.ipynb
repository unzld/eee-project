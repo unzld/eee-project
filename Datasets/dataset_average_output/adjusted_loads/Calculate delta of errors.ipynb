{
 "cells": [
  {
   "cell_type": "code",
   "execution_count": 1,
   "metadata": {},
   "outputs": [
    {
     "name": "stdout",
     "output_type": "stream",
     "text": [
      "Dataset 1 error: 0.0760\n"
     ]
    }
   ],
   "source": [
    "import pandas as pd\n",
    "import numpy as np\n",
    "n = 84+70+84+98+126+126+84\n",
    "n = 0\n",
    "col = 1\n",
    "\n",
    "file = r'd1_avg_error_adjustedloads.csv'\n",
    "df = pd.read_csv(file)\n",
    "df = df.iloc[np.r_[0+n:84+n, 770+n:854+n], :]\n",
    "df_ben = df[df['label'] == 0]\n",
    "df_ben = df_ben.reset_index(drop=True)\n",
    "df_mal = df[df['label'] == 1]\n",
    "df_mal = df_mal.reset_index(drop=True)\n",
    "diff = df_mal.iloc[:, col] - df_ben.iloc[:, col]\n",
    "print('Dataset 1 error: {:.4f}'.format(diff.mean()))"
   ]
  },
  {
   "cell_type": "code",
   "execution_count": 2,
   "metadata": {},
   "outputs": [
    {
     "name": "stdout",
     "output_type": "stream",
     "text": [
      "Dataset 2 error: 0.0531\n"
     ]
    }
   ],
   "source": [
    "file = r'd2_avg_error_adjustedloads.csv'\n",
    "df = pd.read_csv(file)\n",
    "df = df.iloc[np.r_[0+n:84+n, 770+n:854+n], :]\n",
    "df_ben = df[df['label'] == 0]\n",
    "df_ben = df_ben.reset_index(drop=True)\n",
    "df_mal = df[df['label'] == 1]\n",
    "df_mal = df_mal.reset_index(drop=True)\n",
    "diff = df_mal.iloc[:, col] - df_ben.iloc[:, col]\n",
    "print('Dataset 2 error: {:.4f}'.format(diff.mean()))"
   ]
  },
  {
   "cell_type": "code",
   "execution_count": 3,
   "metadata": {},
   "outputs": [
    {
     "name": "stdout",
     "output_type": "stream",
     "text": [
      "Dataset 3 error: 0.0668\n"
     ]
    }
   ],
   "source": [
    "file = r'd3_avg_error_adjustedloads.csv'\n",
    "df = pd.read_csv(file)\n",
    "df = df.iloc[np.r_[0+n:84+n, 770+n:854+n], :]\n",
    "df_ben = df[df['label'] == 0]\n",
    "df_ben = df_ben.reset_index(drop=True)\n",
    "df_mal = df[df['label'] == 1]\n",
    "df_mal = df_mal.reset_index(drop=True)\n",
    "diff = df_mal.iloc[:, col] - df_ben.iloc[:, col]\n",
    "print('Dataset 3 error: {:.4f}'.format(diff.mean()))"
   ]
  },
  {
   "cell_type": "code",
   "execution_count": 4,
   "metadata": {},
   "outputs": [
    {
     "name": "stdout",
     "output_type": "stream",
     "text": [
      "Dataset 4 error: 0.0571\n"
     ]
    }
   ],
   "source": [
    "file = r'd4_avg_error_adjustedloads.csv'\n",
    "df = pd.read_csv(file)\n",
    "df = df.iloc[np.r_[0+n:84+n, 770+n:854+n], :]\n",
    "df_ben = df[df['label'] == 0]\n",
    "df_ben = df_ben.reset_index(drop=True)\n",
    "df_mal = df[df['label'] == 1]\n",
    "df_mal = df_mal.reset_index(drop=True)\n",
    "diff = df_mal.iloc[:, col] - df_ben.iloc[:, col]\n",
    "print('Dataset 4 error: {:.4f}'.format(diff.mean()))"
   ]
  },
  {
   "cell_type": "code",
   "execution_count": 5,
   "metadata": {},
   "outputs": [
    {
     "name": "stdout",
     "output_type": "stream",
     "text": [
      "Dataset 5 error: 0.0846\n"
     ]
    }
   ],
   "source": [
    "file = r'd5_avg_error_adjustedloads.csv'\n",
    "df = pd.read_csv(file)\n",
    "df = df.iloc[np.r_[0+n:84+n, 770+n:854+n], :]\n",
    "df_ben = df[df['label'] == 0]\n",
    "df_ben = df_ben.reset_index(drop=True)\n",
    "df_mal = df[df['label'] == 1]\n",
    "df_mal = df_mal.reset_index(drop=True)\n",
    "diff = df_mal.iloc[:, col] - df_ben.iloc[:, col]\n",
    "print('Dataset 5 error: {:.4f}'.format(diff.mean()))"
   ]
  },
  {
   "cell_type": "code",
   "execution_count": 6,
   "metadata": {},
   "outputs": [
    {
     "name": "stdout",
     "output_type": "stream",
     "text": [
      "Dataset 6 error: 0.1003\n"
     ]
    }
   ],
   "source": [
    "file = r'd6_avg_error_adjustedloads.csv'\n",
    "df = pd.read_csv(file)\n",
    "df = df.iloc[np.r_[0+n:84+n, 770+n:854+n], :]\n",
    "df_ben = df[df['label'] == 0]\n",
    "df_ben = df_ben.reset_index(drop=True)\n",
    "df_mal = df[df['label'] == 1]\n",
    "df_mal = df_mal.reset_index(drop=True)\n",
    "diff = df_mal.iloc[:, col] - df_ben.iloc[:, col]\n",
    "print('Dataset 6 error: {:.4f}'.format(diff.mean()))"
   ]
  },
  {
   "cell_type": "code",
   "execution_count": 7,
   "metadata": {},
   "outputs": [
    {
     "name": "stdout",
     "output_type": "stream",
     "text": [
      "Dataset 7 error: 0.0829\n"
     ]
    }
   ],
   "source": [
    "file = r'd7_avg_error_adjustedloads.csv'\n",
    "df = pd.read_csv(file)\n",
    "df = df.iloc[np.r_[0+n:84+n, 770+n:854+n], :]\n",
    "df_ben = df[df['label'] == 0]\n",
    "df_ben = df_ben.reset_index(drop=True)\n",
    "df_mal = df[df['label'] == 1]\n",
    "df_mal = df_mal.reset_index(drop=True)\n",
    "diff = df_mal.iloc[:, col] - df_ben.iloc[:, col]\n",
    "print('Dataset 7 error: {:.4f}'.format(diff.mean()))"
   ]
  }
 ],
 "metadata": {
  "kernelspec": {
   "display_name": "Python 3",
   "language": "python",
   "name": "python3"
  },
  "language_info": {
   "codemirror_mode": {
    "name": "ipython",
    "version": 3
   },
   "file_extension": ".py",
   "mimetype": "text/x-python",
   "name": "python",
   "nbconvert_exporter": "python",
   "pygments_lexer": "ipython3",
   "version": "3.7.6"
  }
 },
 "nbformat": 4,
 "nbformat_minor": 4
}
